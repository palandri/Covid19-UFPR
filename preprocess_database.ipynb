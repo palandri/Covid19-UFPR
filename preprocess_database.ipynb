{
 "cells": [
  {
   "cell_type": "markdown",
   "id": "e0630bb7",
   "metadata": {},
   "source": [
    "# Preprocess database and generate training and validation data"
   ]
  },
  {
   "cell_type": "code",
   "execution_count": 6,
   "id": "2c2bc977",
   "metadata": {
    "ExecuteTime": {
     "end_time": "2021-07-17T20:40:41.716039Z",
     "start_time": "2021-07-17T20:40:38.585877Z"
    },
    "lines_to_next_cell": 2
   },
   "outputs": [],
   "source": [
    "from src.generic.generic import *\n",
    "import os\n",
    "import uuid\n",
    "import h5py"
   ]
  },
  {
   "cell_type": "code",
   "execution_count": 2,
   "id": "352a2d79-08f8-4560-aa88-332524017bc4",
   "metadata": {
    "ExecuteTime": {
     "end_time": "2021-07-17T20:42:51.714765Z",
     "start_time": "2021-07-17T20:40:44.720174Z"
    },
    "scrolled": true
   },
   "outputs": [
    {
     "name": "stdout",
     "output_type": "stream",
     "text": [
      "Loading images\n",
      "Finished loading images, time: 107.74298691749573s\n"
     ]
    }
   ],
   "source": [
    "if os.name == 'nt':\n",
    "    data_path = f\"D:/colab-remoto-gaby/images/\"\n",
    "\n",
    "else:\n",
    "    data_path = f\"images/\"\n",
    "\n",
    "data, lb, labels = load_images(data_path)"
   ]
  },
  {
   "cell_type": "code",
   "execution_count": 4,
   "id": "496bf988-4ab2-44fc-a50c-2a1021842be8",
   "metadata": {
    "tags": []
   },
   "outputs": [],
   "source": [
    "save_to_pkl(data, labels, lb, data_path)"
   ]
  },
  {
   "cell_type": "markdown",
   "id": "6d832df2-5f57-4d24-92a3-dcc211230d7a",
   "metadata": {},
   "source": [
    "Check if save is ok\n",
    "\n",
    "- Just check the shape of the data saved is equal to the original data"
   ]
  },
  {
   "cell_type": "code",
   "execution_count": 10,
   "id": "b4a116ef-46b6-44cf-aa9d-69c31de08777",
   "metadata": {
    "tags": []
   },
   "outputs": [],
   "source": [
    "def load_from_pkl(data_path):\n",
    "    with open(f'{data_path}data.pkl', 'rb') as f:\n",
    "        data = pkl.load(f)\n",
    "    with open(f'{data_path}labels.pkl', 'rb') as f:\n",
    "        labels = pkl.load(f)\n",
    "    with open(f'{data_path}lb.pkl', 'rb') as f:\n",
    "        lb = pkl.load(f)\n",
    "        \n",
    "    return data, labels, lb"
   ]
  },
  {
   "cell_type": "code",
   "execution_count": 11,
   "id": "166e28ae-4639-438d-a5dc-8f3a147d8bbe",
   "metadata": {},
   "outputs": [
    {
     "name": "stdout",
     "output_type": "stream",
     "text": [
      "Files do match, gj\n"
     ]
    }
   ],
   "source": [
    "saved_data, saved_labels, _ = load_from_pkl(f'{data_path}')\n",
    "\n",
    "if (data.shape != saved_data.shape) or (labels.shape != saved_labels.shape):\n",
    "    print(\"Files do not match\")\n",
    "    \n",
    "else:\n",
    "    print(\"Files do match, gj\")"
   ]
  },
  {
   "cell_type": "code",
   "execution_count": null,
   "id": "be3b3e24-aa83-4cfc-a877-9c977e64a85c",
   "metadata": {},
   "outputs": [],
   "source": []
  }
 ],
 "metadata": {
  "jupytext": {
   "cell_metadata_filter": "-all",
   "main_language": "python",
   "notebook_metadata_filter": "-all",
   "text_representation": {
    "extension": ".py",
    "format_name": "light"
   }
  },
  "kernelspec": {
   "display_name": "Python 3",
   "language": "python",
   "name": "python3"
  },
  "language_info": {
   "codemirror_mode": {
    "name": "ipython",
    "version": 3
   },
   "file_extension": ".py",
   "mimetype": "text/x-python",
   "name": "python",
   "nbconvert_exporter": "python",
   "pygments_lexer": "ipython3",
   "version": "3.8.10"
  },
  "toc": {
   "base_numbering": 1,
   "nav_menu": {},
   "number_sections": false,
   "sideBar": true,
   "skip_h1_title": false,
   "title_cell": "Table of Contents",
   "title_sidebar": "Contents",
   "toc_cell": false,
   "toc_position": {},
   "toc_section_display": true,
   "toc_window_display": false
  }
 },
 "nbformat": 4,
 "nbformat_minor": 5
}
